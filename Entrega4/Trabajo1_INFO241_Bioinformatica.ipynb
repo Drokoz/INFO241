{
 "cells": [
  {
   "cell_type": "markdown",
   "id": "04c5ff3d",
   "metadata": {},
   "source": [
    "# Análisis de variantes desde lecturas de secuenciador masivo"
   ]
  },
  {
   "cell_type": "markdown",
   "id": "31bdabed",
   "metadata": {},
   "source": [
    "### Creación de estructura de directorios"
   ]
  },
  {
   "cell_type": "code",
   "execution_count": 1,
   "id": "43b86175",
   "metadata": {},
   "outputs": [],
   "source": [
    "!mkdir RawReads # para los reads crudos (que vienen del secuenciador)\n",
    "!mkdir DNAref # para almacenar el DNA de referencia\n",
    "!mkdir FastQC_RawData # para guardar los resultados de calidad de los reads crudos\n",
    "!mkdir TrimReads # para almacenar los reads podados\n",
    "!mkdir FastQC_TrimData # para guardar los resultados de calidad de los reads podados\n",
    "!mkdir Align # para almacenar los resultados del alineamiento\n",
    "!mkdir VarCall # para almacenar las variantes llamadas"
   ]
  },
  {
   "cell_type": "markdown",
   "id": "40d72b5e",
   "metadata": {},
   "source": [
    "### Descargar datos"
   ]
  },
  {
   "cell_type": "code",
   "execution_count": 42,
   "id": "b57b1662",
   "metadata": {},
   "outputs": [
    {
     "name": "stdout",
     "output_type": "stream",
     "text": [
      "/mnt/c/Users/Tomas/Documents/INFO241/HTML_Jupyter_clase7/DNAref\n",
      "--2022-06-25 19:04:00--  https://ftp.ncbi.nlm.nih.gov/genomes/all/GCF/000/001/405/GCF_000001405.26_GRCh38/GCF_000001405.26_GRCh38_genomic.fna.gz\n",
      "Resolving ftp.ncbi.nlm.nih.gov (ftp.ncbi.nlm.nih.gov)... 165.112.9.230, 165.112.9.229, 2607:f220:41f:250::229, ...\n",
      "Connecting to ftp.ncbi.nlm.nih.gov (ftp.ncbi.nlm.nih.gov)|165.112.9.230|:443... connected.\n",
      "HTTP request sent, awaiting response... 200 OK\n",
      "Length: 946060684 (902M) [application/x-gzip]\n",
      "Saving to: ‘GCF_000001405.26_GRCh38_genomic.fna.gz’\n",
      "\n",
      "GCF_000001405.26_GR 100%[===================>] 902.23M  4.38MB/s    in 3m 34s  \n",
      "\n",
      "2022-06-25 19:07:35 (4.21 MB/s) - ‘GCF_000001405.26_GRCh38_genomic.fna.gz’ saved [946060684/946060684]\n",
      "\n",
      "/mnt/c/Users/Tomas/Documents/INFO241/HTML_Jupyter_clase7\n"
     ]
    }
   ],
   "source": [
    "%cd DNAref\n",
    "#!wget https://ftp.ncbi.nlm.nih.gov/genomes/all/GCF/000/001/405/GCF_000001405.40_GRCh38.p14/GCF_000001405.40_GRCh38.p14_genomic.fna.gz\n",
    "!wget https://ftp.ncbi.nlm.nih.gov/genomes/all/GCF/000/001/405/GCF_000001405.26_GRCh38/GCF_000001405.26_GRCh38_genomic.fna.gz\n",
    "\n",
    "    #!gunzip GCF_000001215.4_Release_6_plus_ISO1_MT_genomic.fna.gz\n",
    "%cd .."
   ]
  },
  {
   "cell_type": "code",
   "execution_count": 30,
   "id": "7300cc83",
   "metadata": {},
   "outputs": [
    {
     "name": "stdout",
     "output_type": "stream",
     "text": [
      "/mnt/c/Users/Tomas/Documents/INFO241/HTML_Jupyter_clase7/RawReads\n",
      "gzip: Libreria-15-57-R_S2_L001_R1_001.fastq.gz: No such file or directory\n",
      "gzip: Libreria-15-57-R_S2_L001_R2_001.fastq.gz: No such file or directory\n",
      "gzip: Libreria-15-62_S5_L001_R1_001.fastq.gz: No such file or directory\n",
      "gzip: Libreria-15-62_S5_L001_R2_001.fastq.gz: No such file or directory\n",
      "/mnt/c/Users/Tomas/Documents/INFO241/HTML_Jupyter_clase7\n"
     ]
    }
   ],
   "source": [
    "%cd RawReads/\n",
    "#Descomprimir\n",
    "!gzip -d Libreria-15-57-R_S2_L001_R1_001.fastq.gz\n",
    "!gzip -d Libreria-15-57-R_S2_L001_R2_001.fastq.gz\n",
    "!gzip -d Libreria-15-62_S5_L001_R1_001.fastq.gz\n",
    "!gzip -d Libreria-15-62_S5_L001_R2_001.fastq.gz\n",
    "# creación de links simbólicos\n",
    "!ln -s Libreria-15-57-R_S2_L001_R1_001.fastq S2R1.fq\n",
    "!ln -s Libreria-15-57-R_S2_L001_R2_001.fastq S2R2.fq\n",
    "!ln -s Libreria-15-62_S5_L001_R1_001.fastq S5R1.fq\n",
    "!ln -s Libreria-15-62_S5_L001_R2_001.fastq S5R2.fq\n",
    "%cd .."
   ]
  },
  {
   "cell_type": "code",
   "execution_count": 33,
   "id": "ac6b508a",
   "metadata": {},
   "outputs": [
    {
     "name": "stdout",
     "output_type": "stream",
     "text": [
      "Started analysis of S2R1.fq\n",
      "Approx 5% complete for S2R1.fq\n",
      "Approx 10% complete for S2R1.fq\n",
      "Approx 15% complete for S2R1.fq\n",
      "Approx 20% complete for S2R1.fq\n",
      "Approx 25% complete for S2R1.fq\n",
      "Approx 30% complete for S2R1.fq\n",
      "Approx 35% complete for S2R1.fq\n",
      "Approx 40% complete for S2R1.fq\n",
      "Approx 45% complete for S2R1.fq\n",
      "Approx 50% complete for S2R1.fq\n",
      "Approx 55% complete for S2R1.fq\n",
      "Approx 60% complete for S2R1.fq\n",
      "Approx 65% complete for S2R1.fq\n",
      "Approx 70% complete for S2R1.fq\n",
      "Approx 75% complete for S2R1.fq\n",
      "Approx 80% complete for S2R1.fq\n",
      "Approx 85% complete for S2R1.fq\n",
      "Approx 90% complete for S2R1.fq\n",
      "Approx 95% complete for S2R1.fq\n",
      "Analysis complete for S2R1.fq\n",
      "Started analysis of S2R2.fq\n",
      "Approx 5% complete for S2R2.fq\n",
      "Approx 10% complete for S2R2.fq\n",
      "Approx 15% complete for S2R2.fq\n",
      "Approx 20% complete for S2R2.fq\n",
      "Approx 25% complete for S2R2.fq\n",
      "Approx 30% complete for S2R2.fq\n",
      "Approx 35% complete for S2R2.fq\n",
      "Approx 40% complete for S2R2.fq\n",
      "Approx 45% complete for S2R2.fq\n",
      "Approx 50% complete for S2R2.fq\n",
      "Approx 55% complete for S2R2.fq\n",
      "Approx 60% complete for S2R2.fq\n",
      "Approx 65% complete for S2R2.fq\n",
      "Approx 70% complete for S2R2.fq\n",
      "Approx 75% complete for S2R2.fq\n",
      "Approx 80% complete for S2R2.fq\n",
      "Approx 85% complete for S2R2.fq\n",
      "Approx 90% complete for S2R2.fq\n",
      "Approx 95% complete for S2R2.fq\n",
      "Analysis complete for S2R2.fq\n"
     ]
    }
   ],
   "source": [
    "#!conda install -y -c bioconda fastqc\n",
    "!fastqc RawReads/S2R1.fq -o FastQC_RawData/\n",
    "!fastqc RawReads/S2R2.fq -o FastQC_RawData/"
   ]
  },
  {
   "cell_type": "code",
   "execution_count": 34,
   "id": "3c528135",
   "metadata": {},
   "outputs": [
    {
     "name": "stdout",
     "output_type": "stream",
     "text": [
      "Started analysis of S5R1.fq\n",
      "Approx 5% complete for S5R1.fq\n",
      "Approx 10% complete for S5R1.fq\n",
      "Approx 15% complete for S5R1.fq\n",
      "Approx 20% complete for S5R1.fq\n",
      "Approx 25% complete for S5R1.fq\n",
      "Approx 30% complete for S5R1.fq\n",
      "Approx 35% complete for S5R1.fq\n",
      "Approx 40% complete for S5R1.fq\n",
      "Approx 45% complete for S5R1.fq\n",
      "Approx 50% complete for S5R1.fq\n",
      "Approx 55% complete for S5R1.fq\n",
      "Approx 60% complete for S5R1.fq\n",
      "Approx 65% complete for S5R1.fq\n",
      "Approx 70% complete for S5R1.fq\n",
      "Approx 75% complete for S5R1.fq\n",
      "Approx 80% complete for S5R1.fq\n",
      "Approx 85% complete for S5R1.fq\n",
      "Approx 90% complete for S5R1.fq\n",
      "Approx 95% complete for S5R1.fq\n",
      "Analysis complete for S5R1.fq\n",
      "Started analysis of S5R2.fq\n",
      "Approx 5% complete for S5R2.fq\n",
      "Approx 10% complete for S5R2.fq\n",
      "Approx 15% complete for S5R2.fq\n",
      "Approx 20% complete for S5R2.fq\n",
      "Approx 25% complete for S5R2.fq\n",
      "Approx 30% complete for S5R2.fq\n",
      "Approx 35% complete for S5R2.fq\n",
      "Approx 40% complete for S5R2.fq\n",
      "Approx 45% complete for S5R2.fq\n",
      "Approx 50% complete for S5R2.fq\n",
      "Approx 55% complete for S5R2.fq\n",
      "Approx 60% complete for S5R2.fq\n",
      "Approx 65% complete for S5R2.fq\n",
      "Approx 70% complete for S5R2.fq\n",
      "Approx 75% complete for S5R2.fq\n",
      "Approx 80% complete for S5R2.fq\n",
      "Approx 85% complete for S5R2.fq\n",
      "Approx 90% complete for S5R2.fq\n",
      "Approx 95% complete for S5R2.fq\n",
      "Analysis complete for S5R2.fq\n"
     ]
    }
   ],
   "source": [
    "!fastqc RawReads/S5R1.fq -o FastQC_RawData/\n",
    "!fastqc RawReads/S5R2.fq -o FastQC_RawData/"
   ]
  },
  {
   "cell_type": "code",
   "execution_count": 35,
   "id": "411f40f3",
   "metadata": {},
   "outputs": [
    {
     "name": "stdout",
     "output_type": "stream",
     "text": [
      "TrimmomaticPE: Started with arguments:\n",
      " RawReads/S5R1.fq RawReads/S5R2.fq TrimReads/p_S5R1.fq TrimReads/u_S5R1.fq TrimReads/p_S5R2.fq TrimReads/u_S5R2.fq LEADING:3 TRAILING:3 SLIDINGWINDOW:4:20 MINLEN:20\n",
      "Quality encoding detected as phred33\n",
      "Input Read Pairs: 32428 Both Surviving: 29889 (92.17%) Forward Only Surviving: 2222 (6.85%) Reverse Only Surviving: 167 (0.51%) Dropped: 150 (0.46%)\n",
      "TrimmomaticPE: Completed successfully\n",
      "TrimmomaticPE: Started with arguments:\n",
      " RawReads/S2R1.fq RawReads/S2R2.fq TrimReads/p_S2R1.fq TrimReads/u_S2R1.fq TrimReads/p_S2R2.fq TrimReads/u_S2R2.fq LEADING:3 TRAILING:3 SLIDINGWINDOW:4:20 MINLEN:20\n",
      "Quality encoding detected as phred33\n",
      "Input Read Pairs: 41881 Both Surviving: 35581 (84.96%) Forward Only Surviving: 5891 (14.07%) Reverse Only Surviving: 140 (0.33%) Dropped: 269 (0.64%)\n",
      "TrimmomaticPE: Completed successfully\n"
     ]
    }
   ],
   "source": [
    "#!conda install -y -c bioconda trimmomatic\n",
    "!trimmomatic PE RawReads/S5R1.fq RawReads/S5R2.fq TrimReads/p_S5R1.fq TrimReads/u_S5R1.fq TrimReads/p_S5R2.fq TrimReads/u_S5R2.fq LEADING:3 TRAILING:3 SLIDINGWINDOW:4:20 MINLEN:20\n",
    "!trimmomatic PE RawReads/S2R1.fq RawReads/S2R2.fq TrimReads/p_S2R1.fq TrimReads/u_S2R1.fq TrimReads/p_S2R2.fq TrimReads/u_S2R2.fq LEADING:3 TRAILING:3 SLIDINGWINDOW:4:20 MINLEN:20"
   ]
  },
  {
   "cell_type": "code",
   "execution_count": 36,
   "id": "15cd4489",
   "metadata": {
    "scrolled": true
   },
   "outputs": [
    {
     "name": "stdout",
     "output_type": "stream",
     "text": [
      "Started analysis of p_S2R1.fq\n",
      "Approx 5% complete for p_S2R1.fq\n",
      "Approx 10% complete for p_S2R1.fq\n",
      "Approx 15% complete for p_S2R1.fq\n",
      "Approx 20% complete for p_S2R1.fq\n",
      "Approx 25% complete for p_S2R1.fq\n",
      "Approx 30% complete for p_S2R1.fq\n",
      "Approx 35% complete for p_S2R1.fq\n",
      "Approx 40% complete for p_S2R1.fq\n",
      "Approx 45% complete for p_S2R1.fq\n",
      "Approx 50% complete for p_S2R1.fq\n",
      "Approx 55% complete for p_S2R1.fq\n",
      "Approx 60% complete for p_S2R1.fq\n",
      "Approx 65% complete for p_S2R1.fq\n",
      "Approx 70% complete for p_S2R1.fq\n",
      "Approx 75% complete for p_S2R1.fq\n",
      "Approx 80% complete for p_S2R1.fq\n",
      "Approx 85% complete for p_S2R1.fq\n",
      "Approx 90% complete for p_S2R1.fq\n",
      "Approx 95% complete for p_S2R1.fq\n",
      "Analysis complete for p_S2R1.fq\n",
      "Started analysis of p_S2R2.fq\n",
      "Approx 5% complete for p_S2R2.fq\n",
      "Approx 10% complete for p_S2R2.fq\n",
      "Approx 15% complete for p_S2R2.fq\n",
      "Approx 20% complete for p_S2R2.fq\n",
      "Approx 25% complete for p_S2R2.fq\n",
      "Approx 30% complete for p_S2R2.fq\n",
      "Approx 35% complete for p_S2R2.fq\n",
      "Approx 40% complete for p_S2R2.fq\n",
      "Approx 45% complete for p_S2R2.fq\n",
      "Approx 50% complete for p_S2R2.fq\n",
      "Approx 55% complete for p_S2R2.fq\n",
      "Approx 60% complete for p_S2R2.fq\n",
      "Approx 65% complete for p_S2R2.fq\n",
      "Approx 70% complete for p_S2R2.fq\n",
      "Approx 75% complete for p_S2R2.fq\n",
      "Approx 80% complete for p_S2R2.fq\n",
      "Approx 85% complete for p_S2R2.fq\n",
      "Approx 90% complete for p_S2R2.fq\n",
      "Approx 95% complete for p_S2R2.fq\n",
      "Analysis complete for p_S2R2.fq\n",
      "Started analysis of p_S5R1.fq\n",
      "Approx 5% complete for p_S5R1.fq\n",
      "Approx 10% complete for p_S5R1.fq\n",
      "Approx 15% complete for p_S5R1.fq\n",
      "Approx 20% complete for p_S5R1.fq\n",
      "Approx 25% complete for p_S5R1.fq\n",
      "Approx 30% complete for p_S5R1.fq\n",
      "Approx 35% complete for p_S5R1.fq\n",
      "Approx 40% complete for p_S5R1.fq\n",
      "Approx 45% complete for p_S5R1.fq\n",
      "Approx 50% complete for p_S5R1.fq\n",
      "Approx 55% complete for p_S5R1.fq\n",
      "Approx 60% complete for p_S5R1.fq\n",
      "Approx 65% complete for p_S5R1.fq\n",
      "Approx 70% complete for p_S5R1.fq\n",
      "Approx 75% complete for p_S5R1.fq\n",
      "Approx 80% complete for p_S5R1.fq\n",
      "Approx 85% complete for p_S5R1.fq\n",
      "Approx 90% complete for p_S5R1.fq\n",
      "Approx 95% complete for p_S5R1.fq\n",
      "Analysis complete for p_S5R1.fq\n",
      "Started analysis of p_S5R2.fq\n",
      "Approx 5% complete for p_S5R2.fq\n",
      "Approx 10% complete for p_S5R2.fq\n",
      "Approx 15% complete for p_S5R2.fq\n",
      "Approx 20% complete for p_S5R2.fq\n",
      "Approx 25% complete for p_S5R2.fq\n",
      "Approx 30% complete for p_S5R2.fq\n",
      "Approx 35% complete for p_S5R2.fq\n",
      "Approx 40% complete for p_S5R2.fq\n",
      "Approx 45% complete for p_S5R2.fq\n",
      "Approx 50% complete for p_S5R2.fq\n",
      "Approx 55% complete for p_S5R2.fq\n",
      "Approx 60% complete for p_S5R2.fq\n",
      "Approx 65% complete for p_S5R2.fq\n",
      "Approx 70% complete for p_S5R2.fq\n",
      "Approx 75% complete for p_S5R2.fq\n",
      "Approx 80% complete for p_S5R2.fq\n",
      "Approx 85% complete for p_S5R2.fq\n",
      "Approx 90% complete for p_S5R2.fq\n",
      "Approx 95% complete for p_S5R2.fq\n",
      "Analysis complete for p_S5R2.fq\n",
      "Started analysis of u_S2R1.fq\n",
      "Approx 15% complete for u_S2R1.fq\n",
      "Approx 30% complete for u_S2R1.fq\n",
      "Approx 50% complete for u_S2R1.fq\n",
      "Approx 65% complete for u_S2R1.fq\n",
      "Approx 85% complete for u_S2R1.fq\n",
      "Analysis complete for u_S2R1.fq\n",
      "Started analysis of u_S2R2.fq\n",
      "Analysis complete for u_S2R2.fq\n",
      "Started analysis of u_S5R1.fq\n",
      "Approx 45% complete for u_S5R1.fq\n",
      "Approx 90% complete for u_S5R1.fq\n",
      "Analysis complete for u_S5R1.fq\n",
      "Started analysis of u_S5R2.fq\n",
      "Analysis complete for u_S5R2.fq\n"
     ]
    }
   ],
   "source": [
    "!for i in `ls TrimReads/*.fq`; do fastqc $i -o FastQC_TrimData/; done"
   ]
  },
  {
   "cell_type": "code",
   "execution_count": 15,
   "id": "89e7aa5c",
   "metadata": {
    "scrolled": true
   },
   "outputs": [
    {
     "name": "stdout",
     "output_type": "stream",
     "text": [
      "[bwa_index] Pack FASTA... 36.75 sec\n",
      "[bwa_index] Construct BWT for the packed sequence...\n",
      "[BWTIncCreate] textLength=6596861272, availableWord=476179232\n",
      "[BWTIncConstructFromPacked] 10 iterations done. 99999992 characters processed.\n",
      "[BWTIncConstructFromPacked] 20 iterations done. 199999992 characters processed.\n",
      "[BWTIncConstructFromPacked] 30 iterations done. 299999992 characters processed.\n",
      "[BWTIncConstructFromPacked] 40 iterations done. 399999992 characters processed.\n",
      "[BWTIncConstructFromPacked] 50 iterations done. 499999992 characters processed.\n",
      "[BWTIncConstructFromPacked] 60 iterations done. 599999992 characters processed.\n",
      "[BWTIncConstructFromPacked] 70 iterations done. 699999992 characters processed.\n",
      "[BWTIncConstructFromPacked] 80 iterations done. 799999992 characters processed.\n",
      "[BWTIncConstructFromPacked] 90 iterations done. 899999992 characters processed.\n",
      "[BWTIncConstructFromPacked] 100 iterations done. 999999992 characters processed.\n",
      "[BWTIncConstructFromPacked] 110 iterations done. 1099999992 characters processed.\n",
      "[BWTIncConstructFromPacked] 120 iterations done. 1199999992 characters processed.\n",
      "[BWTIncConstructFromPacked] 130 iterations done. 1299999992 characters processed.\n",
      "[BWTIncConstructFromPacked] 140 iterations done. 1399999992 characters processed.\n",
      "[BWTIncConstructFromPacked] 150 iterations done. 1499999992 characters processed.\n",
      "[BWTIncConstructFromPacked] 160 iterations done. 1599999992 characters processed.\n",
      "[BWTIncConstructFromPacked] 170 iterations done. 1699999992 characters processed.\n",
      "[BWTIncConstructFromPacked] 180 iterations done. 1799999992 characters processed.\n",
      "[BWTIncConstructFromPacked] 190 iterations done. 1899999992 characters processed.\n",
      "[BWTIncConstructFromPacked] 200 iterations done. 1999999992 characters processed.\n",
      "[BWTIncConstructFromPacked] 210 iterations done. 2099999992 characters processed.\n",
      "[BWTIncConstructFromPacked] 220 iterations done. 2199999992 characters processed.\n",
      "[BWTIncConstructFromPacked] 230 iterations done. 2299999992 characters processed.\n",
      "[BWTIncConstructFromPacked] 240 iterations done. 2399999992 characters processed.\n",
      "[BWTIncConstructFromPacked] 250 iterations done. 2499999992 characters processed.\n",
      "[BWTIncConstructFromPacked] 260 iterations done. 2599999992 characters processed.\n",
      "[BWTIncConstructFromPacked] 270 iterations done. 2699999992 characters processed.\n",
      "[BWTIncConstructFromPacked] 280 iterations done. 2799999992 characters processed.\n",
      "[BWTIncConstructFromPacked] 290 iterations done. 2899999992 characters processed.\n",
      "[BWTIncConstructFromPacked] 300 iterations done. 2999999992 characters processed.\n",
      "[BWTIncConstructFromPacked] 310 iterations done. 3099999992 characters processed.\n",
      "[BWTIncConstructFromPacked] 320 iterations done. 3199999992 characters processed.\n",
      "[BWTIncConstructFromPacked] 330 iterations done. 3299999992 characters processed.\n",
      "[BWTIncConstructFromPacked] 340 iterations done. 3399999992 characters processed.\n",
      "[BWTIncConstructFromPacked] 350 iterations done. 3499999992 characters processed.\n",
      "[BWTIncConstructFromPacked] 360 iterations done. 3599999992 characters processed.\n",
      "[BWTIncConstructFromPacked] 370 iterations done. 3699999992 characters processed.\n",
      "[BWTIncConstructFromPacked] 380 iterations done. 3799999992 characters processed.\n",
      "[BWTIncConstructFromPacked] 390 iterations done. 3899999992 characters processed.\n",
      "[BWTIncConstructFromPacked] 400 iterations done. 3999999992 characters processed.\n",
      "[BWTIncConstructFromPacked] 410 iterations done. 4099999992 characters processed.\n",
      "[BWTIncConstructFromPacked] 420 iterations done. 4199999992 characters processed.\n",
      "[BWTIncConstructFromPacked] 430 iterations done. 4299999992 characters processed.\n",
      "[BWTIncConstructFromPacked] 440 iterations done. 4399999992 characters processed.\n",
      "[BWTIncConstructFromPacked] 450 iterations done. 4499999992 characters processed.\n",
      "[BWTIncConstructFromPacked] 460 iterations done. 4599999992 characters processed.\n",
      "[BWTIncConstructFromPacked] 470 iterations done. 4699999992 characters processed.\n",
      "[BWTIncConstructFromPacked] 480 iterations done. 4799999992 characters processed.\n",
      "[BWTIncConstructFromPacked] 490 iterations done. 4899999992 characters processed.\n",
      "[BWTIncConstructFromPacked] 500 iterations done. 4999999992 characters processed.\n",
      "[BWTIncConstructFromPacked] 510 iterations done. 5099999992 characters processed.\n",
      "[BWTIncConstructFromPacked] 520 iterations done. 5199999992 characters processed.\n",
      "[BWTIncConstructFromPacked] 530 iterations done. 5299999992 characters processed.\n",
      "[BWTIncConstructFromPacked] 540 iterations done. 5399999992 characters processed.\n",
      "[BWTIncConstructFromPacked] 550 iterations done. 5499999992 characters processed.\n",
      "[BWTIncConstructFromPacked] 560 iterations done. 5599999992 characters processed.\n",
      "[BWTIncConstructFromPacked] 570 iterations done. 5699999992 characters processed.\n",
      "[BWTIncConstructFromPacked] 580 iterations done. 5799999992 characters processed.\n",
      "[BWTIncConstructFromPacked] 590 iterations done. 5899999992 characters processed.\n",
      "[BWTIncConstructFromPacked] 600 iterations done. 5996509032 characters processed.\n",
      "[BWTIncConstructFromPacked] 610 iterations done. 6082533112 characters processed.\n",
      "[BWTIncConstructFromPacked] 620 iterations done. 6158987528 characters processed.\n",
      "[BWTIncConstructFromPacked] 630 iterations done. 6226936392 characters processed.\n",
      "[BWTIncConstructFromPacked] 640 iterations done. 6287325512 characters processed.\n",
      "[BWTIncConstructFromPacked] 650 iterations done. 6340995480 characters processed.\n",
      "[BWTIncConstructFromPacked] 660 iterations done. 6388693480 characters processed.\n",
      "[BWTIncConstructFromPacked] 670 iterations done. 6431083592 characters processed.\n",
      "[BWTIncConstructFromPacked] 680 iterations done. 6468755960 characters processed.\n",
      "[BWTIncConstructFromPacked] 690 iterations done. 6502235256 characters processed.\n",
      "[BWTIncConstructFromPacked] 700 iterations done. 6531987704 characters processed.\n",
      "[BWTIncConstructFromPacked] 710 iterations done. 6558427720 characters processed.\n",
      "[BWTIncConstructFromPacked] 720 iterations done. 6581923640 characters processed.\n",
      "[bwt_gen] Finished constructing BWT in 728 iterations.\n",
      "[bwa_index] 2859.47 seconds elapse.\n",
      "[bwa_index] Update BWT... 23.33 sec\n",
      "[bwa_index] Pack forward-only FASTA... 26.28 sec\n",
      "[bwa_index] Construct SA from BWT and Occ... 1597.95 sec\n",
      "[main] Version: 0.7.17-r1188\n",
      "[main] CMD: bwa index DNAref/GCF_000001405.40_GRCh38.p14_genomic.fna.gz\n",
      "[main] Real time: 5037.876 sec; CPU: 4543.797 sec\n"
     ]
    }
   ],
   "source": [
    "#!conda install -y -c bioconda bwa\n",
    "%timeit\n",
    "!bwa index DNAref/GCF_000001405.40_GRCh38.p14_genomic.fna.gz"
   ]
  },
  {
   "cell_type": "code",
   "execution_count": 47,
   "id": "686ed5d1",
   "metadata": {
    "scrolled": true
   },
   "outputs": [
    {
     "name": "stdout",
     "output_type": "stream",
     "text": [
      "[bwa_index] Pack FASTA... 36.14 sec\n",
      "[bwa_index] Construct BWT for the packed sequence...\n",
      "[BWTIncCreate] textLength=6418572210, availableWord=463634060\n",
      "[BWTIncConstructFromPacked] 10 iterations done. 99999986 characters processed.\n",
      "[BWTIncConstructFromPacked] 20 iterations done. 199999986 characters processed.\n",
      "[BWTIncConstructFromPacked] 30 iterations done. 299999986 characters processed.\n",
      "[BWTIncConstructFromPacked] 40 iterations done. 399999986 characters processed.\n",
      "[BWTIncConstructFromPacked] 50 iterations done. 499999986 characters processed.\n",
      "[BWTIncConstructFromPacked] 60 iterations done. 599999986 characters processed.\n",
      "[BWTIncConstructFromPacked] 70 iterations done. 699999986 characters processed.\n",
      "[BWTIncConstructFromPacked] 80 iterations done. 799999986 characters processed.\n",
      "[BWTIncConstructFromPacked] 90 iterations done. 899999986 characters processed.\n",
      "[BWTIncConstructFromPacked] 100 iterations done. 999999986 characters processed.\n",
      "[BWTIncConstructFromPacked] 110 iterations done. 1099999986 characters processed.\n",
      "[BWTIncConstructFromPacked] 120 iterations done. 1199999986 characters processed.\n",
      "[BWTIncConstructFromPacked] 130 iterations done. 1299999986 characters processed.\n",
      "[BWTIncConstructFromPacked] 140 iterations done. 1399999986 characters processed.\n",
      "[BWTIncConstructFromPacked] 150 iterations done. 1499999986 characters processed.\n",
      "[BWTIncConstructFromPacked] 160 iterations done. 1599999986 characters processed.\n",
      "[BWTIncConstructFromPacked] 170 iterations done. 1699999986 characters processed.\n",
      "[BWTIncConstructFromPacked] 180 iterations done. 1799999986 characters processed.\n",
      "[BWTIncConstructFromPacked] 190 iterations done. 1899999986 characters processed.\n",
      "[BWTIncConstructFromPacked] 200 iterations done. 1999999986 characters processed.\n",
      "[BWTIncConstructFromPacked] 210 iterations done. 2099999986 characters processed.\n",
      "[BWTIncConstructFromPacked] 220 iterations done. 2199999986 characters processed.\n",
      "[BWTIncConstructFromPacked] 230 iterations done. 2299999986 characters processed.\n",
      "[BWTIncConstructFromPacked] 240 iterations done. 2399999986 characters processed.\n",
      "[BWTIncConstructFromPacked] 250 iterations done. 2499999986 characters processed.\n",
      "[BWTIncConstructFromPacked] 260 iterations done. 2599999986 characters processed.\n",
      "[BWTIncConstructFromPacked] 270 iterations done. 2699999986 characters processed.\n",
      "[BWTIncConstructFromPacked] 280 iterations done. 2799999986 characters processed.\n",
      "[BWTIncConstructFromPacked] 290 iterations done. 2899999986 characters processed.\n",
      "[BWTIncConstructFromPacked] 300 iterations done. 2999999986 characters processed.\n",
      "[BWTIncConstructFromPacked] 310 iterations done. 3099999986 characters processed.\n",
      "[BWTIncConstructFromPacked] 320 iterations done. 3199999986 characters processed.\n",
      "[BWTIncConstructFromPacked] 330 iterations done. 3299999986 characters processed.\n",
      "[BWTIncConstructFromPacked] 340 iterations done. 3399999986 characters processed.\n",
      "[BWTIncConstructFromPacked] 350 iterations done. 3499999986 characters processed.\n",
      "[BWTIncConstructFromPacked] 360 iterations done. 3599999986 characters processed.\n",
      "[BWTIncConstructFromPacked] 370 iterations done. 3699999986 characters processed.\n",
      "[BWTIncConstructFromPacked] 380 iterations done. 3799999986 characters processed.\n",
      "[BWTIncConstructFromPacked] 390 iterations done. 3899999986 characters processed.\n",
      "[BWTIncConstructFromPacked] 400 iterations done. 3999999986 characters processed.\n",
      "[BWTIncConstructFromPacked] 410 iterations done. 4099999986 characters processed.\n",
      "[BWTIncConstructFromPacked] 420 iterations done. 4199999986 characters processed.\n",
      "[BWTIncConstructFromPacked] 430 iterations done. 4299999986 characters processed.\n",
      "[BWTIncConstructFromPacked] 440 iterations done. 4399999986 characters processed.\n",
      "[BWTIncConstructFromPacked] 450 iterations done. 4499999986 characters processed.\n",
      "[BWTIncConstructFromPacked] 460 iterations done. 4599999986 characters processed.\n",
      "[BWTIncConstructFromPacked] 470 iterations done. 4699999986 characters processed.\n",
      "[BWTIncConstructFromPacked] 480 iterations done. 4799999986 characters processed.\n",
      "[BWTIncConstructFromPacked] 490 iterations done. 4899999986 characters processed.\n",
      "[BWTIncConstructFromPacked] 500 iterations done. 4999999986 characters processed.\n",
      "[BWTIncConstructFromPacked] 510 iterations done. 5099999986 characters processed.\n",
      "[BWTIncConstructFromPacked] 520 iterations done. 5199999986 characters processed.\n",
      "[BWTIncConstructFromPacked] 530 iterations done. 5299999986 characters processed.\n",
      "[BWTIncConstructFromPacked] 540 iterations done. 5399999986 characters processed.\n",
      "[BWTIncConstructFromPacked] 550 iterations done. 5499999986 characters processed.\n",
      "[BWTIncConstructFromPacked] 560 iterations done. 5599999986 characters processed.\n",
      "[BWTIncConstructFromPacked] 570 iterations done. 5699999986 characters processed.\n",
      "[BWTIncConstructFromPacked] 580 iterations done. 5798165394 characters processed.\n",
      "[BWTIncConstructFromPacked] 590 iterations done. 5886412978 characters processed.\n",
      "[BWTIncConstructFromPacked] 600 iterations done. 5964843650 characters processed.\n",
      "[BWTIncConstructFromPacked] 610 iterations done. 6034549010 characters processed.\n",
      "[BWTIncConstructFromPacked] 620 iterations done. 6096499330 characters processed.\n",
      "[BWTIncConstructFromPacked] 630 iterations done. 6151556914 characters processed.\n",
      "[BWTIncConstructFromPacked] 640 iterations done. 6200488210 characters processed.\n",
      "[BWTIncConstructFromPacked] 650 iterations done. 6243974434 characters processed.\n",
      "[BWTIncConstructFromPacked] 660 iterations done. 6282621122 characters processed.\n",
      "[BWTIncConstructFromPacked] 670 iterations done. 6316966322 characters processed.\n",
      "[BWTIncConstructFromPacked] 680 iterations done. 6347488418 characters processed.\n",
      "[BWTIncConstructFromPacked] 690 iterations done. 6374612482 characters processed.\n",
      "[BWTIncConstructFromPacked] 700 iterations done. 6398716386 characters processed.\n",
      "[BWTIncConstructFromPacked] 710 iterations done. 6418572210 characters processed.\n",
      "[bwt_gen] Finished constructing BWT in 710 iterations.\n",
      "[bwa_index] 2717.47 seconds elapse.\n",
      "[bwa_index] Update BWT... 22.53 sec\n",
      "[bwa_index] Pack forward-only FASTA... 24.91 sec\n",
      "[bwa_index] Construct SA from BWT and Occ... ^C\n"
     ]
    }
   ],
   "source": [
    "#!conda install -y -c bioconda bwa\n",
    "%timeit\n",
    "!bwa index DNAref/GCF_000001405.26_GRCh38_genomic.fna.gz"
   ]
  },
  {
   "cell_type": "code",
   "execution_count": 3,
   "id": "283d9dea",
   "metadata": {},
   "outputs": [
    {
     "name": "stdout",
     "output_type": "stream",
     "text": [
      "^C\r\n"
     ]
    }
   ],
   "source": [
    "!bwa bwt2sa DNAref/GCF_000001405.26_GRCh38_genomic.fna.gz.bwt DNAref/GCF_000001405.26_GRCh38_genomic.fna.gz.sa"
   ]
  },
  {
   "cell_type": "code",
   "execution_count": 48,
   "id": "3541ddeb",
   "metadata": {},
   "outputs": [
    {
     "name": "stdout",
     "output_type": "stream",
     "text": [
      "^C\n",
      "^C\n"
     ]
    }
   ],
   "source": [
    "#!bwa mem DNAref/GCF_000001405.40_GRCh38.p14_genomic.fna.gz TrimReads/p_S2R1.fq TrimReads/p_S2R2.fq > Align/S2trimPaired.sam\n",
    "#!bwa mem DNAref/GCF_000001405.40_GRCh38.p14_genomic.fna.gz TrimReads/p_S5R1.fq TrimReads/p_S5R2.fq > Align/S5trimPaired.sam\n",
    "\n",
    "#CH38\n",
    "!bwa mem DNAref/GCF_000001405.26_GRCh38_genomic.fna.gz TrimReads/p_S2R1.fq TrimReads/p_S2R2.fq > Align/S2_CH3826trimPaired.sam\n",
    "!bwa mem DNAref/GCF_000001405.26_GRCh38_genomic.fna.gz TrimReads/p_S5R1.fq TrimReads/p_S5R2.fq > Align/S5_CH3826trimPaired.sam\n"
   ]
  },
  {
   "cell_type": "code",
   "execution_count": 49,
   "id": "33749b3f",
   "metadata": {
    "scrolled": true
   },
   "outputs": [
    {
     "name": "stdout",
     "output_type": "stream",
     "text": [
      "/mnt/c/Users/Tomas/Documents/INFO241/HTML_Jupyter_clase7/Align\n",
      "/mnt/c/Users/Tomas/Documents/INFO241/HTML_Jupyter_clase7\n"
     ]
    }
   ],
   "source": [
    "#!conda install -y -c bioconda samtools\n",
    "%cd Align/\n",
    "#CH38\n",
    "!samtools sort S2trimPaired.sam -o sorted_S2trimPaired.bam\n",
    "!samtools sort S5trimPaired.sam -o sorted_S5trimPaired.bam\n",
    "!samtools index sorted_S2trimPaired.bam\n",
    "!samtools index sorted_S5trimPaired.bam\n",
    "\n",
    "#CH38.26\n",
    "!samtools sort S2_CH3826trimPaired.sam -o sorted_S2_CH3826trimPaired.bam\n",
    "!samtools sort S5_CH3826trimPaired.sam -o sorted_S5_CH3826trimPaired.bam\n",
    "!samtools index sorted_S2_CH3826trimPaired.bam\n",
    "!samtools index sorted_S5_CH3826trimPaired.bam\n",
    "%cd .."
   ]
  },
  {
   "cell_type": "code",
   "execution_count": 9,
   "id": "1282a815",
   "metadata": {},
   "outputs": [
    {
     "name": "stdout",
     "output_type": "stream",
     "text": [
      "Collecting package metadata (current_repodata.json): done\n",
      "Solving environment: done\n",
      "\n",
      "\n",
      "==> WARNING: A newer version of conda exists. <==\n",
      "  current version: 4.12.0\n",
      "  latest version: 4.13.0\n",
      "\n",
      "Please update conda by running\n",
      "\n",
      "    $ conda update -n base -c defaults conda\n",
      "\n",
      "\n",
      "\n",
      "## Package Plan ##\n",
      "\n",
      "  environment location: /home/drokoz/anaconda3/envs/INFO241\n",
      "\n",
      "  added / updated specs:\n",
      "    - tabix\n",
      "\n",
      "\n",
      "The following packages will be downloaded:\n",
      "\n",
      "    package                    |            build\n",
      "    ---------------------------|-----------------\n",
      "    htslib-1.9                 |       h4da6232_3         1.2 MB  bioconda\n",
      "    libdeflate-1.2             |       h516909a_1          63 KB  bioconda\n",
      "    tabix-1.11                 |       hdfd78af_0           6 KB  bioconda\n",
      "    ------------------------------------------------------------\n",
      "                                           Total:         1.2 MB\n",
      "\n",
      "The following NEW packages will be INSTALLED:\n",
      "\n",
      "  htslib             bioconda/linux-64::htslib-1.9-h4da6232_3\n",
      "  libdeflate         bioconda/linux-64::libdeflate-1.2-h516909a_1\n",
      "  tabix              bioconda/noarch::tabix-1.11-hdfd78af_0\n",
      "\n",
      "The following packages will be SUPERSEDED by a higher-priority channel:\n",
      "\n",
      "  certifi            conda-forge::certifi-2022.6.15-py310h~ --> pkgs/main::certifi-2022.6.15-py310h06a4308_0\n",
      "\n",
      "\n",
      "\n",
      "Downloading and Extracting Packages\n",
      "htslib-1.9           | 1.2 MB    | ##################################### | 100% \n",
      "tabix-1.11           | 6 KB      | ##################################### | 100% \n",
      "libdeflate-1.2       | 63 KB     | ##################################### | 100% \n",
      "Preparing transaction: done\n",
      "Verifying transaction: done\n",
      "Executing transaction: done\n"
     ]
    }
   ],
   "source": [
    "!conda install -y -c bioconda tabix\n",
    "!bgzip DNAref/GCF_000001405.40_GRCh38.p14_genomic.fna # volver a comprimir el FASTA con bgzip"
   ]
  },
  {
   "cell_type": "code",
   "execution_count": 10,
   "id": "2c942eb3",
   "metadata": {},
   "outputs": [
    {
     "name": "stdout",
     "output_type": "stream",
     "text": [
      "[mpileup] 1 samples in 1 input files\n",
      "<mpileup> Set max per-file depth to 8000\n",
      "[mpileup] 1 samples in 1 input files\n",
      "<mpileup> Set max per-file depth to 8000\n"
     ]
    }
   ],
   "source": [
    "!samtools mpileup Align/sorted_S2trimPaired.bam -g -f DNAref/GCF_000001405.40_GRCh38.p14_genomic.fna.gz > VarCall/S2pileup.bcf\n",
    "!samtools mpileup Align/sorted_S5trimPaired.bam -g -f DNAref/GCF_000001405.40_GRCh38.p14_genomic.fna.gz > VarCall/S5pileup.bcf\n"
   ]
  },
  {
   "cell_type": "code",
   "execution_count": 21,
   "id": "e4bdc232",
   "metadata": {},
   "outputs": [
    {
     "name": "stdout",
     "output_type": "stream",
     "text": [
      "Note: none of --samples-file, --ploidy or --ploidy-file given, assuming all sites are diploid\n",
      "Note: none of --samples-file, --ploidy or --ploidy-file given, assuming all sites are diploid\n"
     ]
    }
   ],
   "source": [
    "#!conda install -y -c bioconda samtools openssl=1.0\n",
    "!bcftools call -O b -vc VarCall/S2pileup.bcf > VarCall/S2varCall.bcf\n",
    "!bcftools call -O b -vc VarCall/S5pileup.bcf > VarCall/S5varCall.bcf\n",
    "#(opción -O b indica que el output es BCF, -O v sacaría un VCF)\n",
    "\n",
    "# transformar BCF a VCF\n",
    "!bcftools view VarCall/S2varCall.bcf > VarCall/S2varCall.vcf\n",
    "!bcftools view VarCall/S5varCall.bcf > VarCall/S5varCall.vcf"
   ]
  },
  {
   "cell_type": "code",
   "execution_count": 22,
   "id": "acb07d74",
   "metadata": {},
   "outputs": [
    {
     "name": "stdout",
     "output_type": "stream",
     "text": [
      "/mnt/c/Users/Tomas/Documents/INFO241/HTML_Jupyter_clase7/DNAref\n",
      "--2022-06-26 16:01:18--  https://ftp.ncbi.nlm.nih.gov/genomes/all/GCF/000/001/405/GCF_000001405.40_GRCh38.p14/GCF_000001405.40_GRCh38.p14_genomic.gff.gz\n",
      "Resolving ftp.ncbi.nlm.nih.gov (ftp.ncbi.nlm.nih.gov)... 165.112.9.228, 165.112.9.229, 2607:f220:41f:250::230, ...\n",
      "Connecting to ftp.ncbi.nlm.nih.gov (ftp.ncbi.nlm.nih.gov)|165.112.9.228|:443... connected.\n",
      "HTTP request sent, awaiting response... 200 OK\n",
      "Length: 56923273 (54M) [application/x-gzip]\n",
      "Saving to: ‘GCF_000001405.40_GRCh38.p14_genomic.gff.gz’\n",
      "\n",
      "GCF_000001405.40_GR 100%[===================>]  54.29M  4.33MB/s    in 17s     \n",
      "\n",
      "2022-06-26 16:01:37 (3.14 MB/s) - ‘GCF_000001405.40_GRCh38.p14_genomic.gff.gz’ saved [56923273/56923273]\n",
      "\n",
      "/mnt/c/Users/Tomas/Documents/INFO241/HTML_Jupyter_clase7\n"
     ]
    }
   ],
   "source": [
    "%cd DNAref\n",
    "!wget https://ftp.ncbi.nlm.nih.gov/genomes/all/GCF/000/001/405/GCF_000001405.40_GRCh38.p14/GCF_000001405.40_GRCh38.p14_genomic.gff.gz\n",
    "%cd .."
   ]
  },
  {
   "cell_type": "code",
   "execution_count": 23,
   "id": "2a84de00",
   "metadata": {},
   "outputs": [],
   "source": [
    "!gunzip DNAref/GCF_000001405.40_GRCh38.p14_genomic.gff.gz"
   ]
  },
  {
   "cell_type": "code",
   "execution_count": null,
   "id": "8073acd7",
   "metadata": {},
   "outputs": [],
   "source": []
  }
 ],
 "metadata": {
  "kernelspec": {
   "display_name": "Python 3 (ipykernel)",
   "language": "python",
   "name": "python3"
  },
  "language_info": {
   "codemirror_mode": {
    "name": "ipython",
    "version": 3
   },
   "file_extension": ".py",
   "mimetype": "text/x-python",
   "name": "python",
   "nbconvert_exporter": "python",
   "pygments_lexer": "ipython3",
   "version": "3.10.4"
  }
 },
 "nbformat": 4,
 "nbformat_minor": 5
}
